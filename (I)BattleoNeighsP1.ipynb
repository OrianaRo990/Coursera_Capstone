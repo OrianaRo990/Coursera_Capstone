{
 "cells": [
  {
   "cell_type": "markdown",
   "metadata": {},
   "source": [
    "### ***Battle of Neighborhoods (Part I)***"
   ]
  },
  {
   "cell_type": "markdown",
   "metadata": {},
   "source": [
    "### Introduction/Business Problem:"
   ]
  },
  {
   "cell_type": "markdown",
   "metadata": {},
   "source": [
    "***Project Name:***\"Perfect place in NYC to put a new music school\"\n"
   ]
  },
  {
   "cell_type": "markdown",
   "metadata": {},
   "source": [
    "***Background:*** \n",
    "There are a few well known music schools in NYC, Manhattan and all cater to different audiences."
   ]
  },
  {
   "cell_type": "markdown",
   "metadata": {},
   "source": [
    "***Goal:***\n",
    "This project will be finding the ***best*** place to start a music school in a popular place in NYC \n",
    "\n",
    "1)The project will be centered around the borough Manhattan , not necessarily meaning the music school ***has*** to be in manhattan, but the starting point to find nearby music schools will start there\n"
   ]
  },
  {
   "cell_type": "markdown",
   "metadata": {},
   "source": [
    "***Data Description***"
   ]
  },
  {
   "cell_type": "markdown",
   "metadata": {},
   "source": [
    "1a) The first step is to find nearby music schools in the borough of manhattan with the starting point being the Upper West Side"
   ]
  },
  {
   "cell_type": "markdown",
   "metadata": {},
   "source": [
    "2) Using FourSquare location data, a visual map will be created to visualize all the music schools in the area- "
   ]
  },
  {
   "cell_type": "markdown",
   "metadata": {},
   "source": [
    "3) Again, using FourSquare data, we will view additional data that may help such as \n",
    "- what neighborhoods are popular for music schools\n",
    "- how many users liked certain music schools?\n",
    "- review audiences of music schools to view ideal place for low competition"
   ]
  },
  {
   "cell_type": "markdown",
   "metadata": {},
   "source": [
    "4) Using general(open to the public) data about music schools \n",
    "create a Graph visualization with MatPlotLib to show the trends for music schools\n",
    "and apply to our current data from FourSquare"
   ]
  },
  {
   "cell_type": "markdown",
   "metadata": {},
   "source": [
    "5) Finalize and clean data and present\n",
    "- Best Borough (highly populated?)\n",
    "- Best neighborhood within Borough (highly populated?)\n",
    "- Why, using the data found on Foursquare and external site"
   ]
  },
  {
   "cell_type": "markdown",
   "metadata": {},
   "source": [
    "***Data to be used***\n",
    "- Location Data\n",
    "- User Data\n",
    "- External- general music school data found online (open to public)"
   ]
  },
  {
   "cell_type": "markdown",
   "metadata": {},
   "source": [
    "***(if possible)***\n",
    "- demographic data"
   ]
  },
  {
   "cell_type": "markdown",
   "metadata": {},
   "source": [
    "***Libraries for Project***\n",
    "- Pandas for dataframes\n",
    "- numpy\n",
    "- MatPlotLib-For external data visualization \n",
    "- Geopy for Maps to visualize FourSquare Data\n"
   ]
  },
  {
   "cell_type": "markdown",
   "metadata": {},
   "source": [
    "***Presentation Formats***\n",
    "- Maps\n",
    "- Graphs"
   ]
  }
 ],
 "metadata": {
  "kernelspec": {
   "display_name": "Python 3",
   "language": "python",
   "name": "python3"
  },
  "language_info": {
   "codemirror_mode": {
    "name": "ipython",
    "version": 3
   },
   "file_extension": ".py",
   "mimetype": "text/x-python",
   "name": "python",
   "nbconvert_exporter": "python",
   "pygments_lexer": "ipython3",
   "version": "3.6.5"
  }
 },
 "nbformat": 4,
 "nbformat_minor": 2
}
